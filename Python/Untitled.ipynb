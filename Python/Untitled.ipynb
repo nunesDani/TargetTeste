{
 "cells": [
  {
   "cell_type": "code",
   "execution_count": 7,
   "metadata": {},
   "outputs": [],
   "source": [
    "import pandas as pd\n",
    "\n",
    "dataBase = pd.read_json(\"dados.json\")\n",
    "# display(dataBase) database completa"
   ]
  },
  {
   "cell_type": "code",
   "execution_count": 8,
   "id": "768a7402",
   "metadata": {},
   "outputs": [],
   "source": [
    "dataBase = dataBase.drop(dataBase[dataBase['valor'] == 0].index)\n",
    "# display(dataBase) database sem dados com valor 0"
   ]
  },
  {
   "cell_type": "code",
   "execution_count": 9,
   "id": "d4b8ad08",
   "metadata": {},
   "outputs": [
    {
     "name": "stdout",
     "output_type": "stream",
     "text": [
      "Menor faturamento: \n"
     ]
    },
    {
     "data": {
      "text/plain": [
       "dia       14.0000\n",
       "valor    373.7838\n",
       "Name: 13, dtype: float64"
      ]
     },
     "execution_count": 9,
     "metadata": {},
     "output_type": "execute_result"
    }
   ],
   "source": [
    "print('Menor faturamento: ')\n",
    "dataBase.loc[dataBase['valor'].idxmin()]"
   ]
  },
  {
   "cell_type": "code",
   "execution_count": 10,
   "id": "f3797535",
   "metadata": {},
   "outputs": [
    {
     "name": "stdout",
     "output_type": "stream",
     "text": [
      "Maior faturamento: \n"
     ]
    },
    {
     "data": {
      "text/plain": [
       "dia         16.0000\n",
       "valor    48924.2448\n",
       "Name: 15, dtype: float64"
      ]
     },
     "execution_count": 10,
     "metadata": {},
     "output_type": "execute_result"
    }
   ],
   "source": [
    "print('Maior faturamento: ')\n",
    "dataBase.loc[dataBase['valor'].idxmax()]"
   ]
  },
  {
   "cell_type": "code",
   "execution_count": 11,
   "id": "db278549",
   "metadata": {},
   "outputs": [
    {
     "name": "stdout",
     "output_type": "stream",
     "text": [
      "Média de faturamento: 21908.638675\n",
      "Dias em que o faturamento foi acima da média:\n"
     ]
    },
    {
     "data": {
      "text/html": [
       "<div>\n",
       "<style scoped>\n",
       "    .dataframe tbody tr th:only-of-type {\n",
       "        vertical-align: middle;\n",
       "    }\n",
       "\n",
       "    .dataframe tbody tr th {\n",
       "        vertical-align: top;\n",
       "    }\n",
       "\n",
       "    .dataframe thead th {\n",
       "        text-align: right;\n",
       "    }\n",
       "</style>\n",
       "<table border=\"1\" class=\"dataframe\">\n",
       "  <thead>\n",
       "    <tr style=\"text-align: right;\">\n",
       "      <th></th>\n",
       "      <th>dia</th>\n",
       "      <th>valor</th>\n",
       "    </tr>\n",
       "  </thead>\n",
       "  <tbody>\n",
       "    <tr>\n",
       "      <th>0</th>\n",
       "      <td>1</td>\n",
       "      <td>22174.1664</td>\n",
       "    </tr>\n",
       "    <tr>\n",
       "      <th>1</th>\n",
       "      <td>2</td>\n",
       "      <td>24537.6698</td>\n",
       "    </tr>\n",
       "    <tr>\n",
       "      <th>2</th>\n",
       "      <td>3</td>\n",
       "      <td>26139.6134</td>\n",
       "    </tr>\n",
       "    <tr>\n",
       "      <th>5</th>\n",
       "      <td>6</td>\n",
       "      <td>26742.6612</td>\n",
       "    </tr>\n",
       "    <tr>\n",
       "      <th>7</th>\n",
       "      <td>8</td>\n",
       "      <td>42889.2258</td>\n",
       "    </tr>\n",
       "    <tr>\n",
       "      <th>8</th>\n",
       "      <td>9</td>\n",
       "      <td>46251.1740</td>\n",
       "    </tr>\n",
       "    <tr>\n",
       "      <th>15</th>\n",
       "      <td>16</td>\n",
       "      <td>48924.2448</td>\n",
       "    </tr>\n",
       "    <tr>\n",
       "      <th>19</th>\n",
       "      <td>20</td>\n",
       "      <td>35240.1826</td>\n",
       "    </tr>\n",
       "    <tr>\n",
       "      <th>20</th>\n",
       "      <td>21</td>\n",
       "      <td>43829.1667</td>\n",
       "    </tr>\n",
       "    <tr>\n",
       "      <th>26</th>\n",
       "      <td>27</td>\n",
       "      <td>25681.8318</td>\n",
       "    </tr>\n",
       "  </tbody>\n",
       "</table>\n",
       "</div>"
      ],
      "text/plain": [
       "    dia       valor\n",
       "0     1  22174.1664\n",
       "1     2  24537.6698\n",
       "2     3  26139.6134\n",
       "5     6  26742.6612\n",
       "7     8  42889.2258\n",
       "8     9  46251.1740\n",
       "15   16  48924.2448\n",
       "19   20  35240.1826\n",
       "20   21  43829.1667\n",
       "26   27  25681.8318"
      ]
     },
     "execution_count": 11,
     "metadata": {},
     "output_type": "execute_result"
    }
   ],
   "source": [
    "soma = dataBase['valor'].sum()\n",
    "media = soma/(dataBase['valor'].count() - 1)\n",
    "\n",
    "print( 'Média de faturamento:', media)\n",
    "\n",
    "print('Dias em que o faturamento foi acima da média:')\n",
    "dataBase.loc[dataBase['valor'] > media] "
   ]
  }
 ],
 "metadata": {
  "kernelspec": {
   "display_name": "base",
   "language": "python",
   "name": "python3"
  },
  "language_info": {
   "codemirror_mode": {
    "name": "ipython",
    "version": 3
   },
   "file_extension": ".py",
   "mimetype": "text/x-python",
   "name": "python",
   "nbconvert_exporter": "python",
   "pygments_lexer": "ipython3",
   "version": "3.9.13"
  }
 },
 "nbformat": 4,
 "nbformat_minor": 5
}
